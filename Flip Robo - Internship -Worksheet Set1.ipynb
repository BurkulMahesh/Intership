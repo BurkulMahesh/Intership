{
 "cells": [
  {
   "cell_type": "markdown",
   "id": "5c84709a",
   "metadata": {},
   "source": [
    "# Worksheet Set 1 - 15-03-2022"
   ]
  },
  {
   "cell_type": "code",
   "execution_count": 3,
   "id": "ea26cb5a",
   "metadata": {},
   "outputs": [
    {
     "data": {
      "text/plain": [
       "1"
      ]
     },
     "execution_count": 3,
     "metadata": {},
     "output_type": "execute_result"
    }
   ],
   "source": [
    "# Q1. Ans is C) %\n",
    "# Example #\n",
    "5%2"
   ]
  },
  {
   "cell_type": "code",
   "execution_count": 7,
   "id": "b3b18cf3",
   "metadata": {},
   "outputs": [
    {
     "data": {
      "text/plain": [
       "0"
      ]
     },
     "execution_count": 7,
     "metadata": {},
     "output_type": "execute_result"
    }
   ],
   "source": [
    "# Q2. Ans is B) 0\n",
    "# Solution #\n",
    "2//3"
   ]
  },
  {
   "cell_type": "code",
   "execution_count": 12,
   "id": "e0e3287a",
   "metadata": {},
   "outputs": [
    {
     "data": {
      "text/plain": [
       "24"
      ]
     },
     "execution_count": 12,
     "metadata": {},
     "output_type": "execute_result"
    }
   ],
   "source": [
    "# Q3. Ans is C) 24\n",
    "# Solution #\n",
    "6<<2"
   ]
  },
  {
   "cell_type": "code",
   "execution_count": 18,
   "id": "976fe191",
   "metadata": {},
   "outputs": [
    {
     "data": {
      "text/plain": [
       "2"
      ]
     },
     "execution_count": 18,
     "metadata": {},
     "output_type": "execute_result"
    }
   ],
   "source": [
    "# Q4. Ans is A) 2\n",
    "# Solution #\n",
    "6&2"
   ]
  },
  {
   "cell_type": "code",
   "execution_count": 20,
   "id": "8d05b0cd",
   "metadata": {},
   "outputs": [
    {
     "data": {
      "text/plain": [
       "6"
      ]
     },
     "execution_count": 20,
     "metadata": {},
     "output_type": "execute_result"
    }
   ],
   "source": [
    "# Q5. Ans is c) 6\n",
    "# Solution #\n",
    "6|2"
   ]
  },
  {
   "cell_type": "code",
   "execution_count": 21,
   "id": "5d513ba5",
   "metadata": {},
   "outputs": [
    {
     "name": "stdout",
     "output_type": "stream",
     "text": [
      "Something went wrong\n",
      "The try...except block is finished\n"
     ]
    }
   ],
   "source": [
    "# Q6. Ans is C) the finally block will be executed no matter if the try block raises an error or not.6\n",
    "# Solution #\n",
    "try:\n",
    "  x > 3\n",
    "except:\n",
    "  print(\"Something went wrong\")\n",
    "else:\n",
    "  print(\"Nothing went wrong\")\n",
    "finally:\n",
    "  print(\"The try...except block is finished\")"
   ]
  },
  {
   "cell_type": "code",
   "execution_count": 24,
   "id": "24091e71",
   "metadata": {},
   "outputs": [
    {
     "ename": "TypeError",
     "evalue": "Only integers are allowed",
     "output_type": "error",
     "traceback": [
      "\u001b[1;31m---------------------------------------------------------------------------\u001b[0m",
      "\u001b[1;31mTypeError\u001b[0m                                 Traceback (most recent call last)",
      "\u001b[1;32m<ipython-input-24-cd0e416da85a>\u001b[0m in \u001b[0;36m<module>\u001b[1;34m\u001b[0m\n\u001b[0;32m      4\u001b[0m \u001b[1;33m\u001b[0m\u001b[0m\n\u001b[0;32m      5\u001b[0m \u001b[1;32mif\u001b[0m \u001b[1;32mnot\u001b[0m \u001b[0mtype\u001b[0m\u001b[1;33m(\u001b[0m\u001b[0mx\u001b[0m\u001b[1;33m)\u001b[0m \u001b[1;32mis\u001b[0m \u001b[0mint\u001b[0m\u001b[1;33m:\u001b[0m\u001b[1;33m\u001b[0m\u001b[1;33m\u001b[0m\u001b[0m\n\u001b[1;32m----> 6\u001b[1;33m   \u001b[1;32mraise\u001b[0m \u001b[0mTypeError\u001b[0m\u001b[1;33m(\u001b[0m\u001b[1;34m\"Only integers are allowed\"\u001b[0m\u001b[1;33m)\u001b[0m\u001b[1;33m\u001b[0m\u001b[1;33m\u001b[0m\u001b[0m\n\u001b[0m",
      "\u001b[1;31mTypeError\u001b[0m: Only integers are allowed"
     ]
    }
   ],
   "source": [
    "# Q7. Ans is A) It is used to raise an exception\n",
    "# Solution #\n",
    "x = \"hello\"\n",
    "\n",
    "if not type(x) is int:\n",
    "  raise TypeError(\"Only integers are allowed\")"
   ]
  },
  {
   "cell_type": "code",
   "execution_count": 25,
   "id": "9983248e",
   "metadata": {},
   "outputs": [],
   "source": [
    "# Q8. Ans is C) in defining a generator"
   ]
  },
  {
   "cell_type": "code",
   "execution_count": 30,
   "id": "dc3a6939",
   "metadata": {},
   "outputs": [
    {
     "name": "stdout",
     "output_type": "stream",
     "text": [
      "2\n"
     ]
    },
    {
     "data": {
      "text/plain": [
       "4"
      ]
     },
     "execution_count": 30,
     "metadata": {},
     "output_type": "execute_result"
    }
   ],
   "source": [
    "# Q9. Ans is A) & C) \n",
    "_abc=2\n",
    "print(_abc)\n",
    "abc2=4\n",
    "abc2"
   ]
  },
  {
   "cell_type": "code",
   "execution_count": 1,
   "id": "7f6354f1",
   "metadata": {},
   "outputs": [],
   "source": [
    "# Q10. Ans is A) & B)"
   ]
  },
  {
   "cell_type": "code",
   "execution_count": 25,
   "id": "b444a1bf",
   "metadata": {},
   "outputs": [
    {
     "name": "stdout",
     "output_type": "stream",
     "text": [
      "Enter a number : a\n",
      "Please Enter valid number\n",
      "Enter a number : 2.2\n",
      "Please Enter valid number\n",
      "Enter a number : 2.\n",
      "Please Enter valid number\n",
      "Enter a number : 2\n",
      "Factorial of Num 2 is 2\n"
     ]
    }
   ],
   "source": [
    "#11. Write a python program to find the factorial of a number.\n",
    "while True:\n",
    "    try:\n",
    "        Num=int(input(\"Enter a number : \"))\n",
    "        Fact=1\n",
    "        if Num < 0 :\n",
    "            print(\"Please Enter positive number\")\n",
    "        elif Num==0:\n",
    "            print(\"Factorial of 0 is 1\")\n",
    "        else:\n",
    "            for i in range (1,Num+1):\n",
    "                Fact=Fact*i\n",
    "            print(f\"Factorial of Num {Num} is {Fact}\")\n",
    "        break;\n",
    "    except ValueError:\n",
    "        print(\"Please Enter valid number\")\n",
    "        \n"
   ]
  },
  {
   "cell_type": "code",
   "execution_count": 35,
   "id": "a8dd7d05",
   "metadata": {},
   "outputs": [
    {
     "name": "stdout",
     "output_type": "stream",
     "text": [
      "Enter a number : 15\n",
      "15 is composite number\n"
     ]
    }
   ],
   "source": [
    "#12. Write a python program to find whether a number is prime or composite.\n",
    "Num=int(input(\"Enter a number : \"))\n",
    "flag = False\n",
    "if Num > 1:\n",
    "    for i in range(2,Num):\n",
    "        if Num % i == 0:\n",
    "            flag=True\n",
    "    if flag:\n",
    "        print(f\"{Num} is composite number\")\n",
    "    else:\n",
    "        print(f\"{Num} is prime number\")\n",
    "else:\n",
    "    print(f\"{Num} is neither prime nor composite\")"
   ]
  },
  {
   "cell_type": "code",
   "execution_count": 28,
   "id": "9bc396e4",
   "metadata": {},
   "outputs": [
    {
     "name": "stdout",
     "output_type": "stream",
     "text": [
      "2\n",
      "3\n",
      "4\n",
      "5\n"
     ]
    }
   ],
   "source": [
    "Num=6\n",
    "for i in range(2,Num):\n",
    "    print (i)"
   ]
  },
  {
   "cell_type": "code",
   "execution_count": 66,
   "id": "ccb93a0b",
   "metadata": {},
   "outputs": [
    {
     "name": "stdout",
     "output_type": "stream",
     "text": [
      "Enter a string: nitin\n",
      "['N', 'I', 'T', 'I', 'N']\n",
      "['N', 'I', 'T', 'I', 'N']\n",
      "Given string is palindrome\n"
     ]
    }
   ],
   "source": [
    "#13. Write a python program to check whether a given string is palindrome or not.\n",
    "strg=str(input(\"Enter a string: \"))\n",
    "r=list(reversed(strg.upper()))\n",
    "r\n",
    "print(r)\n",
    "b=list(strg.upper())\n",
    "print(b)\n",
    "if r==b:\n",
    "    print(\"Given string is palindrome\")\n",
    "else:\n",
    "    print(\"Given string is not palindrome\")\n",
    "    "
   ]
  },
  {
   "cell_type": "code",
   "execution_count": 69,
   "id": "4b16a83a",
   "metadata": {},
   "outputs": [
    {
     "name": "stdout",
     "output_type": "stream",
     "text": [
      "Enter 1st number: 3\n",
      "Enter 1st number: 4\n",
      "5.0\n"
     ]
    }
   ],
   "source": [
    "#14. Write a Python program to get the third side of right-angled triangle from two given sides.2nd\n",
    "from math import sqrt\n",
    "a=float(input(\"Enter 1st number: \"))\n",
    "b=float(input(\"Enter 1st number: \"))\n",
    "c=sqrt(a**2+b**2)\n",
    "print(c)"
   ]
  },
  {
   "cell_type": "code",
   "execution_count": 139,
   "id": "4a497f76",
   "metadata": {},
   "outputs": [
    {
     "name": "stdout",
     "output_type": "stream",
     "text": [
      "Pls enter a string: rajaram\n",
      "Per char frequency in 'rajaram' is :\n",
      " {'r': 2, 'a': 3, 'j': 1, 'm': 1}\n"
     ]
    }
   ],
   "source": [
    "#15. Write a python program to print the frequency of each of the characters present in a given string.\n",
    "\n",
    "    \n",
    "input_string = str(input(\"Pls enter a string: \"))\n",
    "frequencies = {} \n",
    "  \n",
    "for char in input_string: \n",
    "   if char in frequencies: \n",
    "     frequencies[char] += 1\n",
    "   else: \n",
    "      frequencies[char] = 1\n",
    "\n",
    "# Show Output\n",
    "print (\"Per char frequency in '{}' is :\\n {}\".format(input_string, str(frequencies)))"
   ]
  },
  {
   "cell_type": "code",
   "execution_count": 27,
   "id": "be84eb27",
   "metadata": {},
   "outputs": [
    {
     "name": "stdout",
     "output_type": "stream",
     "text": [
      "Pls enter a string: nitin\n"
     ]
    },
    {
     "data": {
      "text/plain": [
       "[{'i': 2}, {'t': 1}, {'n': 2}]"
      ]
     },
     "execution_count": 27,
     "metadata": {},
     "output_type": "execute_result"
    }
   ],
   "source": [
    "str1=str(input(\"Pls enter a string: \"))\n",
    "cnt=0\n",
    "val=0\n",
    "lst=list()\n",
    "for j in range(0,len(str1)):\n",
    "    cnt=0\n",
    "    for i in range(0,len(str1)):\n",
    "        if str1[val]==str1[i]:\n",
    "            cnt=cnt+1\n",
    "    lst.append({str1[val]:cnt})   \n",
    "    #print(f\"{str1[val]} : {cnt}\")\n",
    "    val=val+1  \n",
    "list(map(dict, set(tuple(sorted(d.items())) for d in lst)))"
   ]
  },
  {
   "cell_type": "code",
   "execution_count": null,
   "id": "eefe17a8",
   "metadata": {},
   "outputs": [],
   "source": []
  },
  {
   "cell_type": "code",
   "execution_count": null,
   "id": "159bb4e5",
   "metadata": {},
   "outputs": [],
   "source": []
  }
 ],
 "metadata": {
  "kernelspec": {
   "display_name": "Python 3",
   "language": "python",
   "name": "python3"
  },
  "language_info": {
   "codemirror_mode": {
    "name": "ipython",
    "version": 3
   },
   "file_extension": ".py",
   "mimetype": "text/x-python",
   "name": "python",
   "nbconvert_exporter": "python",
   "pygments_lexer": "ipython3",
   "version": "3.8.8"
  }
 },
 "nbformat": 4,
 "nbformat_minor": 5
}
